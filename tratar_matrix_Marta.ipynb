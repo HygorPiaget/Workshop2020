{
 "cells": [
  {
   "cell_type": "code",
   "execution_count": 1,
   "metadata": {},
   "outputs": [],
   "source": [
    "import numpy as np\n",
    "import pandas as pd"
   ]
  },
  {
   "cell_type": "code",
   "execution_count": 4,
   "metadata": {
    "scrolled": true
   },
   "outputs": [],
   "source": [
    "df_concelhos = pd.read_csv(\"concelho_info.csv\",sep=\",\")\n",
    "Pop=np.array(df_concelhos.PopTot)\n",
    "Area=np.array(df_concelhos.Superficie)\n",
    "ID=np.array(df_concelhos.ID)\n",
    "Nomes=np.array(df_concelhos.Nome)"
   ]
  },
  {
   "cell_type": "code",
   "execution_count": 16,
   "metadata": {},
   "outputs": [
    {
     "data": {
      "text/plain": [
       "array([[  0., 218., 300., ...,   0.,   2.,   0.],\n",
       "       [335.,   0.,   9., ...,   1.,   0.,   0.],\n",
       "       [314.,   5.,   0., ...,   1.,   0.,   0.],\n",
       "       ...,\n",
       "       [  0.,   0.,   0., ...,   0.,   1.,   0.],\n",
       "       [  0.,   0.,   0., ...,   1.,   0.,   0.],\n",
       "       [  0.,   0.,   0., ...,   0.,   0.,   0.]])"
      ]
     },
     "execution_count": 16,
     "metadata": {},
     "output_type": "execute_result"
    }
   ],
   "source": [
    "infile=open(\"Dados-Marta/SI_OD_Matrices_MobilePhones/Portugal/PT_od_matrix_mobilephones.txt\")\n",
    "matrix_Marta=np.zeros((278,278))\n",
    "\n",
    "for line in infile:\n",
    "    data=line.split()\n",
    "    if data[0]!=\"ORIGIN\":\n",
    "        matrix_Marta[int(data[0]),int(data[1])]=int(data[2])\n",
    "        \n",
    "matrix_Marta"
   ]
  },
  {
   "cell_type": "code",
   "execution_count": null,
   "metadata": {},
   "outputs": [],
   "source": []
  }
 ],
 "metadata": {
  "kernelspec": {
   "display_name": "Python 3",
   "language": "python",
   "name": "python3"
  },
  "language_info": {
   "codemirror_mode": {
    "name": "ipython",
    "version": 3
   },
   "file_extension": ".py",
   "mimetype": "text/x-python",
   "name": "python",
   "nbconvert_exporter": "python",
   "pygments_lexer": "ipython3",
   "version": "3.7.3"
  }
 },
 "nbformat": 4,
 "nbformat_minor": 2
}
